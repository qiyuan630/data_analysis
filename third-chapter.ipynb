{
 "cells": [
  {
   "cell_type": "code",
   "execution_count": 5,
   "id": "cc2779d0",
   "metadata": {},
   "outputs": [
    {
     "name": "stdout",
     "output_type": "stream",
     "text": [
      "1\n",
      "2\n",
      "3\n",
      "a=1,b=2,c=3\n",
      "4\n",
      "5\n",
      "6\n",
      "a=4,b=5,c=6\n",
      "7\n",
      "8\n",
      "9\n",
      "a=7,b=8,c=9\n"
     ]
    }
   ],
   "source": [
    "seq = [(1,2,3),(4,5,6),(7,8,9)]\n",
    "for a,b,c in seq:\n",
    "    print(a)\n",
    "    print(b)\n",
    "    print(c)\n",
    "    print('a={0},b={1},c={2}'.format(a,b,c))"
   ]
  },
  {
   "cell_type": "markdown",
   "id": "3a03d7a5",
   "metadata": {},
   "source": [
    "首先我们知道这里的a,b,c 是一整个元组，format函数前面的大括号对应的就是后面里面的位置。"
   ]
  },
  {
   "cell_type": "markdown",
   "id": "d80d1b7e",
   "metadata": {},
   "source": [
    "拆包工具*reset，从起始位置去取，rest是剩下的。"
   ]
  },
  {
   "cell_type": "code",
   "execution_count": 9,
   "id": "3a75316d",
   "metadata": {},
   "outputs": [
    {
     "data": {
      "text/plain": [
       "[3, 4, 5, 6]"
      ]
     },
     "execution_count": 9,
     "metadata": {},
     "output_type": "execute_result"
    }
   ],
   "source": [
    "values = 1,2,3,4,5,6\n",
    "a,b,*reset = values\n",
    "a,b\n",
    "reset"
   ]
  }
 ],
 "metadata": {
  "kernelspec": {
   "display_name": "Python 3 (ipykernel)",
   "language": "python",
   "name": "python3"
  },
  "language_info": {
   "codemirror_mode": {
    "name": "ipython",
    "version": 3
   },
   "file_extension": ".py",
   "mimetype": "text/x-python",
   "name": "python",
   "nbconvert_exporter": "python",
   "pygments_lexer": "ipython3",
   "version": "3.11.5"
  }
 },
 "nbformat": 4,
 "nbformat_minor": 5
}
