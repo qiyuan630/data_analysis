{
 "cells": [
  {
   "cell_type": "code",
   "execution_count": 5,
   "id": "cc2779d0",
   "metadata": {},
   "outputs": [
    {
     "name": "stdout",
     "output_type": "stream",
     "text": [
      "1\n",
      "2\n",
      "3\n",
      "a=1,b=2,c=3\n",
      "4\n",
      "5\n",
      "6\n",
      "a=4,b=5,c=6\n",
      "7\n",
      "8\n",
      "9\n",
      "a=7,b=8,c=9\n"
     ]
    }
   ],
   "source": [
    "seq = [(1,2,3),(4,5,6),(7,8,9)]\n",
    "for a,b,c in seq:\n",
    "    print(a)\n",
    "    print(b)\n",
    "    print(c)\n",
    "    print('a={0},b={1},c={2}'.format(a,b,c))"
   ]
  },
  {
   "cell_type": "markdown",
   "id": "3a03d7a5",
   "metadata": {},
   "source": [
    "首先我们知道这里的a,b,c 是一整个元组，format函数前面的大括号对应的就是后面里面的位置。"
   ]
  },
  {
   "cell_type": "markdown",
   "id": "d80d1b7e",
   "metadata": {},
   "source": [
    "拆包工具*reset，从起始位置去取，rest是剩下的。"
   ]
  },
  {
   "cell_type": "code",
   "execution_count": 1,
   "id": "3a75316d",
   "metadata": {},
   "outputs": [
    {
     "data": {
      "text/plain": [
       "[3, 4, 5, 6]"
      ]
     },
     "execution_count": 1,
     "metadata": {},
     "output_type": "execute_result"
    }
   ],
   "source": [
    "values = 1,2,3,4,5,6\n",
    "a,b,*reset = values\n",
    "a,b\n",
    "reset"
   ]
  },
  {
   "cell_type": "markdown",
   "id": "f544ce28",
   "metadata": {},
   "source": [
    "局部变量与全局变量"
   ]
  },
  {
   "cell_type": "code",
   "execution_count": 3,
   "id": "03b6391f",
   "metadata": {},
   "outputs": [],
   "source": [
    "#外部不定义内部定义\n",
    "def func():\n",
    "    a_1 = []\n",
    "    for i in range(5):\n",
    "        a_1.append(i)\n",
    "    print(a_1)"
   ]
  },
  {
   "cell_type": "code",
   "execution_count": 5,
   "id": "807764b3",
   "metadata": {},
   "outputs": [
    {
     "name": "stdout",
     "output_type": "stream",
     "text": [
      "[0, 1, 2, 3, 4]\n"
     ]
    }
   ],
   "source": [
    "func()"
   ]
  },
  {
   "cell_type": "code",
   "execution_count": 7,
   "id": "5e802ffd",
   "metadata": {},
   "outputs": [
    {
     "ename": "NameError",
     "evalue": "name 'a_1' is not defined",
     "output_type": "error",
     "traceback": [
      "\u001b[1;31m---------------------------------------------------------------------------\u001b[0m",
      "\u001b[1;31mNameError\u001b[0m                                 Traceback (most recent call last)",
      "Cell \u001b[1;32mIn[7], line 1\u001b[0m\n\u001b[1;32m----> 1\u001b[0m \u001b[38;5;28mprint\u001b[39m(a_1)\n",
      "\u001b[1;31mNameError\u001b[0m: name 'a_1' is not defined"
     ]
    }
   ],
   "source": [
    "print(a_1)"
   ]
  },
  {
   "cell_type": "code",
   "execution_count": 13,
   "id": "69f5e345",
   "metadata": {},
   "outputs": [
    {
     "name": "stdout",
     "output_type": "stream",
     "text": [
      "[0, 1, 2, 3, 4]\n",
      "2387317839488\n",
      "2387317839488\n"
     ]
    }
   ],
   "source": [
    "#内部不定义外部定义\n",
    "a_2 = []\n",
    "def func():   \n",
    "    for i in range(5):\n",
    "        a_2.append(i)\n",
    "    print(a_2)\n",
    "    print(id(a_2))\n",
    "    \n",
    "func()\n",
    "print(id(a_2))"
   ]
  },
  {
   "cell_type": "code",
   "execution_count": 17,
   "id": "9e7ee12f",
   "metadata": {},
   "outputs": [
    {
     "name": "stdout",
     "output_type": "stream",
     "text": [
      "[0, 1, 2, 3, 4]\n",
      "2387331878592\n",
      "[]\n",
      "2387331880512\n"
     ]
    }
   ],
   "source": [
    "#我们看的一个变量是否为同一个变量不能单纯去看他的变量名称是要去看变量的id的\n",
    "#外部内部都定义，变量名称都相同但是id地址不相同，说明本质上不是一个变量。\n",
    "a_3 = []\n",
    "def func():\n",
    "    a_3 = []\n",
    "    for i in range(5):\n",
    "        a_3.append(i)\n",
    "    print(a_3)\n",
    "    print(id(a_3))\n",
    "func()\n",
    "print(a_3)\n",
    "print(id(a_3))"
   ]
  },
  {
   "cell_type": "code",
   "execution_count": 19,
   "id": "4e8a499e",
   "metadata": {},
   "outputs": [
    {
     "name": "stdout",
     "output_type": "stream",
     "text": [
      "1\n",
      "140729252877096\n",
      "1\n",
      "140729252877096\n"
     ]
    }
   ],
   "source": [
    "'''小结：函数内部操作是否可以改变函数外部变量，也就是全局变量\n",
    "\n",
    "情况1 外部没有内部有：不能\n",
    "\n",
    "情况2 内部没有外部有：可以\n",
    "\n",
    "情况3 内部外部都有：不能\n",
    "\n",
    "那么针对情况1、情况2，如果想改变外部变量怎么办？\n",
    "\n",
    "这就引出了global声明'''\n",
    "#情况1gloabal\n",
    "\n",
    "def func():\n",
    "    global a_1_g\n",
    "    a_1_g = 1\n",
    "    print(a_1_g)\n",
    "    print(id (a_1_g))\n",
    "\n",
    "func()\n",
    "print(a_1_g)\n",
    "print(id(a_1_g))"
   ]
  },
  {
   "cell_type": "code",
   "execution_count": 21,
   "id": "a6d7e6a3",
   "metadata": {},
   "outputs": [
    {
     "name": "stdout",
     "output_type": "stream",
     "text": [
      "5\n",
      "140729252877224\n",
      "5\n",
      "140729252877224\n"
     ]
    }
   ],
   "source": [
    "#情况3global\n",
    "a_3_g = 1\n",
    "def func():\n",
    "    global a_3_g\n",
    "    a_3_g = 5\n",
    "    print(a_3_g)\n",
    "    print(id(a_3_g))\n",
    "func()\n",
    "print(a_3_g)\n",
    "print(id(a_3_g))"
   ]
  },
  {
   "cell_type": "markdown",
   "id": "70b87ae2",
   "metadata": {},
   "source": [
    "关于全局变量与局部变量的总结：\n",
    "函数里自己定义了变量\n",
    "\n",
    "属于函数内部局部变量\n",
    "\n",
    "调用函数创建，退出函数销毁\n",
    "\n",
    "函数里没有定义变量\n",
    "\n",
    "会默认调用外部的变量\n",
    "函数内部定义了变量，还想对应改变外部的全局变量\n",
    "\n",
    "则需要用global声明\n",
    "同时注意：变量是否是同一个变量，根本区别是在于id，而不是变量名"
   ]
  },
  {
   "cell_type": "code",
   "execution_count": 2,
   "id": "c5034892",
   "metadata": {},
   "outputs": [],
   "source": [
    "states = ['   ?alabama!  ', 'FlOrIda', 'south  carolina##', 'West virginia?']"
   ]
  },
  {
   "cell_type": "markdown",
   "id": "b1662594",
   "metadata": {},
   "source": [
    "取出空格，移除标点符号，调整适当的大小写\n",
    "\n",
    "内建字符串\n",
    "\n",
    "正则表达式re,regular expression"
   ]
  },
  {
   "cell_type": "code",
   "execution_count": 5,
   "id": "bf00a276",
   "metadata": {},
   "outputs": [],
   "source": [
    "import re\n",
    "\n",
    "def clean_strings(strings):\n",
    "    result = []\n",
    "    for value in strings:\n",
    "        print('0 : ' + value)\n",
    "        value = value.strip() ##删除开头和结尾的空格换行\n",
    "        print('1 strip: ' + value)\n",
    "        value = re.sub('[!#?]', '', value) # 将！或# 或？替换为空，即删除\n",
    "        print('2 re: '+ value)\n",
    "        value = value.title()\n",
    "        print('3 title: '+ value)\n",
    "        result.append(value)\n",
    "        \n",
    "    return result"
   ]
  },
  {
   "cell_type": "code",
   "execution_count": 7,
   "id": "9fef7db3",
   "metadata": {},
   "outputs": [
    {
     "name": "stdout",
     "output_type": "stream",
     "text": [
      "0 :    ?alabama!  \n",
      "1 strip: ?alabama!\n",
      "2 re: alabama\n",
      "3 title: Alabama\n",
      "0 : FlOrIda\n",
      "1 strip: FlOrIda\n",
      "2 re: FlOrIda\n",
      "3 title: Florida\n",
      "0 : south  carolina##\n",
      "1 strip: south  carolina##\n",
      "2 re: south  carolina\n",
      "3 title: South  Carolina\n",
      "0 : West virginia?\n",
      "1 strip: West virginia?\n",
      "2 re: West virginia\n",
      "3 title: West Virginia\n"
     ]
    },
    {
     "data": {
      "text/plain": [
       "['Alabama', 'Florida', 'South  Carolina', 'West Virginia']"
      ]
     },
     "execution_count": 7,
     "metadata": {},
     "output_type": "execute_result"
    }
   ],
   "source": [
    "clean_strings(states)"
   ]
  }
 ],
 "metadata": {
  "kernelspec": {
   "display_name": "Python 3 (ipykernel)",
   "language": "python",
   "name": "python3"
  },
  "language_info": {
   "codemirror_mode": {
    "name": "ipython",
    "version": 3
   },
   "file_extension": ".py",
   "mimetype": "text/x-python",
   "name": "python",
   "nbconvert_exporter": "python",
   "pygments_lexer": "ipython3",
   "version": "3.11.5"
  }
 },
 "nbformat": 4,
 "nbformat_minor": 5
}
