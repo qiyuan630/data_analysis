{
 "cells": [
  {
   "cell_type": "markdown",
   "id": "17f6f205",
   "metadata": {},
   "source": [
    "正则化表达\n",
    "正则表达式：是一种格式\n",
    "\n",
    "用特殊字符表达某种字符串\n",
    "这是很多语言都通用的一种标准\n",
    "很多，我们就先记几个\n",
    "\\d，0-9的数字\n",
    "a*，一个或多个a，a，aa，aaaa都行\n",
    "[0-9],0-9的数字都行\n",
    "re：是Python中的模块\n",
    "\n",
    "使得在Python中可以使用所有的正则表达式规则\n",
    "本节内容：\n",
    "\n",
    "1.re.match 匹配开头\n",
    "\n",
    "2.re.search 全文匹配\n",
    "\n",
    "3.sub 替换删除\n",
    "\n",
    "4.re.compile 编译正则\n",
    "\n",
    "5.findall 返回列表\n",
    "\n",
    "6.finditer 返回迭代器\n",
    "\n",
    "7.re.split 分割返回列表\n",
    "\n",
    "8.(?P...) 分组匹配\n",
    "\n",
    "9.正则表达符号、修饰符\n",
    "\n",
    "10.一个综合的例子"
   ]
  },
  {
   "cell_type": "markdown",
   "id": "d69359b7",
   "metadata": {},
   "source": [
    "1. re.match 匹配开头\n",
    "功能：匹配开头，如果匹配返回某个值，如果不匹配返回None\n",
    "\n",
    "通式：re.match(pattern, string, flag=0)，其中\n",
    "\n",
    "pattern：正则表达式如a，如\\d代表0-9的数字\n",
    "\n",
    "string：要匹配的字符串如abc123\n",
    "\n",
    "flags：标志位，设置匹配方式，如是否区分大小写等"
   ]
  },
  {
   "cell_type": "code",
   "execution_count": 1,
   "id": "e018750e",
   "metadata": {},
   "outputs": [
    {
     "name": "stdout",
     "output_type": "stream",
     "text": [
      "<re.Match object; span=(0, 1), match='a'>\n",
      "None\n"
     ]
    }
   ],
   "source": [
    "import re\n",
    "\n",
    "print(re.match('a', 'abc123'))\n",
    "## a时abc123的开头，返回一个值\n",
    "## 这个值具体是什么等会儿再说，反正不是None\n",
    "\n",
    "print(re.match('b', 'abc123'))\n",
    "## b不是abc123的开头，返回None"
   ]
  },
  {
   "cell_type": "code",
   "execution_count": 4,
   "id": "ff130e43",
   "metadata": {},
   "outputs": [
    {
     "name": "stdout",
     "output_type": "stream",
     "text": [
      "0\n",
      "4\n",
      "(0, 4)\n",
      "what\n",
      "123abc456\n",
      "123\n",
      "abc\n",
      "456\n"
     ]
    },
    {
     "ename": "IndexError",
     "evalue": "no such group",
     "output_type": "error",
     "traceback": [
      "\u001b[1;31m---------------------------------------------------------------------------\u001b[0m",
      "\u001b[1;31mIndexError\u001b[0m                                Traceback (most recent call last)",
      "Cell \u001b[1;32mIn[4], line 43\u001b[0m\n\u001b[0;32m     41\u001b[0m \u001b[38;5;28mprint\u001b[39m(re\u001b[38;5;241m.\u001b[39mmatch(rgl_exprs, a)\u001b[38;5;241m.\u001b[39mgroup(\u001b[38;5;241m2\u001b[39m))\n\u001b[0;32m     42\u001b[0m \u001b[38;5;28mprint\u001b[39m(re\u001b[38;5;241m.\u001b[39mmatch(rgl_exprs, a)\u001b[38;5;241m.\u001b[39mgroup(\u001b[38;5;241m3\u001b[39m)) \n\u001b[1;32m---> 43\u001b[0m \u001b[38;5;28mprint\u001b[39m(re\u001b[38;5;241m.\u001b[39mmatch(rgl_exprs, a)\u001b[38;5;241m.\u001b[39mgroup(\u001b[38;5;241m4\u001b[39m))\n",
      "\u001b[1;31mIndexError\u001b[0m: no such group"
     ]
    }
   ],
   "source": [
    "'''\n",
    "start() 返回匹配开始的位置\n",
    "\n",
    "end() 返回匹配结束的位置\n",
    "\n",
    "span() 返回一个元组包含匹配 (开始,结束) 的位置，span就是范围的意思life span寿命\n",
    "\n",
    "group() 返回被 RE 匹配的字符串\n",
    "'''\n",
    "## 返回值取什么，看N先生的例子\n",
    "\n",
    "import re\n",
    "\n",
    "index=re.match('what','whatff i whatfffff')\n",
    "\n",
    "if index:\n",
    "    print(index.start()) ## 返回起始位置\n",
    "    print(index.end()) ## 返回结束位置3+1 = 不匹配的f开始位置4\n",
    "    print(index.span()) ## 返回（起始，结束）\n",
    "    print(index.group(0))## 返回字符串\n",
    "'''那么问题又来了，这个group我可看见个数，写着0\n",
    "\n",
    "有什么含义？'''\n",
    "# 关于group（）用N先生的例子更好\n",
    "\n",
    "import re\n",
    "\n",
    "a = \"123abc456\"\n",
    "\n",
    "rgl_exprs = '([0-9]*)([a-z]*)([0-9]*)'\n",
    "\n",
    "# 正则表达式，从左到右，有几个括号，就是几组\n",
    "# group（0）：如有匹配，返回字符串整体\n",
    "# group（1）：1开始，0到9的数字，取到1，*再来取到2，*再来取到3，*再来a不能取\n",
    "# group（2）：a开始，a到z的字母，取到a，*再来取到b，*再来取到c，*再来4不能取\n",
    "# group（3）：同理\n",
    "# group（4）：没有定义会报错\n",
    "\n",
    "print(re.match(rgl_exprs, a).group(0))  \n",
    "print(re.match(rgl_exprs, a).group(1))  \n",
    "print(re.match(rgl_exprs, a).group(2))\n",
    "print(re.match(rgl_exprs, a).group(3)) \n",
    "print(re.match(rgl_exprs, a).group(4)) "
   ]
  },
  {
   "cell_type": "code",
   "execution_count": 6,
   "id": "9ce9d106",
   "metadata": {},
   "outputs": [
    {
     "name": "stdout",
     "output_type": "stream",
     "text": [
      "0\n",
      "0\n",
      "(11, 14)\n",
      "None\n"
     ]
    }
   ],
   "source": [
    "'''\n",
    "2. re.search 全文匹配\n",
    "功能：扫描整个字符串，匹配成功，返回第一个匹配成功的对象，否则返回None\n",
    "\n",
    "通式：re.search(pattern, string, flags=0)\n",
    "'''\n",
    "\n",
    "import re\n",
    "\n",
    "print(re.search('www', 'www.runoob.com').start())\n",
    "print(re.match('www', 'www.runoob.com').start()) # 与match对比\n",
    "print(re.search('com', 'www.runoob.com').span())\n",
    "print(re.match('com', 'www.runoob.com')) # 与match的区别"
   ]
  },
  {
   "cell_type": "code",
   "execution_count": 9,
   "id": "ef5a8bd6",
   "metadata": {},
   "outputs": [
    {
     "name": "stdout",
     "output_type": "stream",
     "text": [
      "count = 1: 123 abc 789 456 456\n",
      "count = 0: 123 abc 789 789 789\n",
      "123 abc 789 789 789\n"
     ]
    }
   ],
   "source": [
    "'''3. sub 替换删除\n",
    "功能：substitude缩写，替换匹配项，用空去替换，那就是删除\n",
    "\n",
    "通式：re.sub(pattern, repl, string, count=0, flags=0)\n",
    "\n",
    "repl : 替换的字符串，也可为一个函数\n",
    "\n",
    "count : 模式匹配后替换的最大次数，默认 0 表示替换所有的匹配'''\n",
    "import re\n",
    "\n",
    "s_sub = \"123 abc 456 456 456\" # string字符串\n",
    "p_sub = '456' # pattern 匹配的字符串\n",
    "r_sub = '789' # replace替换的\n",
    "\n",
    "s_subed = re.sub(p_sub, r_sub, s_sub, count=1, flags=0)\n",
    "print(\"count = 1:\", s_subed)\n",
    "# count = 1 匹配后替换一次\n",
    "\n",
    "s_subed_ed = re.sub(p_sub, r_sub, s_sub, count=0, flags=0)\n",
    "print(\"count = 0:\", s_subed_ed)\n",
    "# count = 0 匹配后替换次数不限\n",
    "\n",
    "print(s_subed_ed)"
   ]
  },
  {
   "cell_type": "code",
   "execution_count": 10,
   "id": "c1aaa614",
   "metadata": {},
   "outputs": [
    {
     "name": "stdout",
     "output_type": "stream",
     "text": [
      "24\n"
     ]
    }
   ],
   "source": [
    "import re\n",
    " \n",
    "# 将匹配的数字乘以 2\n",
    "def double(x):\n",
    "    value = int(x.group())\n",
    "    return str(value * 2)\n",
    " \n",
    "s = '12'\n",
    "print(re.sub('\\d', double, s))#这里是便利s中的所有字符，若是整数，那么就替换成经过double函数处理后的对象，这里就可以展现出上面提到的替换的字符串也可以是一个函数。"
   ]
  },
  {
   "cell_type": "code",
   "execution_count": 12,
   "id": "10bf8378",
   "metadata": {},
   "outputs": [
    {
     "name": "stdout",
     "output_type": "stream",
     "text": [
      "None\n",
      "12\n"
     ]
    }
   ],
   "source": [
    "'''\n",
    "4. re.compile 编译正则\n",
    "功能：编译正则表达式，生成一个pattern，供 match() 和 search() 使用\n",
    "\n",
    "通式：re.compile(pattern[, flags])'''\n",
    "import re\n",
    "\n",
    "pattern = re.compile(r'\\d+') # 1或多个数字\n",
    "\n",
    "m = pattern.match('one12twothree34four')  # 查找头部，没有匹配\n",
    "n = pattern.search('one12twothree34four').group(0)#这里的search要记住是返回匹配的第一个\n",
    "\n",
    "print(m)\n",
    "print(n)\n"
   ]
  },
  {
   "cell_type": "code",
   "execution_count": 14,
   "id": "67851881",
   "metadata": {},
   "outputs": [
    {
     "name": "stdout",
     "output_type": "stream",
     "text": [
      "None\n",
      "<re.Match object; span=(3, 5), match='12'>\n",
      "12\n"
     ]
    }
   ],
   "source": [
    "m_2 = pattern.match('one12twothree34four', 2, 10) # 从'e'的位置开始匹配，没有匹配\n",
    "\n",
    "print(m_2)\n",
    "\n",
    "m_3 = pattern.match('one12twothree34four', 3, 10) # 从'1'的位置开始匹配，正好匹配\n",
    "\n",
    "print(m_3)  \n",
    "\n",
    "print(m_3.group())"
   ]
  },
  {
   "cell_type": "code",
   "execution_count": 16,
   "id": "877ab757",
   "metadata": {
    "scrolled": true
   },
   "outputs": [
    {
     "name": "stdout",
     "output_type": "stream",
     "text": [
      "['123', '456']\n",
      "['45']\n"
     ]
    }
   ],
   "source": [
    "'''\n",
    "5. findall 返回列表\n",
    "功能：全字符串找，匹配，并返回一个列表，否则返回空列表。\n",
    "\n",
    "通式：findall(string[, pos[, endpos]])\n",
    "\n",
    "string : 待匹配的字符串。\n",
    "\n",
    "pos : 可选参数，指定字符串的起始位置，默认为 0。\n",
    "\n",
    "endpos : 可选参数，指定字符串的结束位置，默认为字符串的长度\n",
    "'''\n",
    "import re\n",
    " \n",
    "p_findll = re.compile(r'\\d+')   # 查找数字\n",
    "result1 = p_findll.findall('123abc456')\n",
    "# 找数字，返回一个列表\n",
    "result2 = p_findll.findall('123abc456', 3, 8)\n",
    "# 从3位开始，包括a，从8位结束，不包括6\n",
    " \n",
    "print(result1)\n",
    "print(result2)"
   ]
  },
  {
   "cell_type": "code",
   "execution_count": 21,
   "id": "95fb0987",
   "metadata": {},
   "outputs": [
    {
     "name": "stdout",
     "output_type": "stream",
     "text": [
      "123\n",
      "456\n",
      "789\n"
     ]
    }
   ],
   "source": [
    "'''\n",
    "6. finditer 返回迭代器\n",
    "功能：类似findall，只不过返回迭代器\n",
    "\n",
    "通式：re.finditer(pattern, string, flags=0)\n",
    "'''\n",
    "import re\n",
    " \n",
    "it = re.finditer(r\"\\d+\",\"123abc456efg789\") #只是一个可迭代的存在而不是一个列表\n",
    "for match in it: \n",
    "    print (match.group())"
   ]
  },
  {
   "cell_type": "code",
   "execution_count": 23,
   "id": "00e950be",
   "metadata": {},
   "outputs": [
    {
     "data": {
      "text/plain": [
       "['', 'runoob', 'runoob', 'runoob', '']"
      ]
     },
     "execution_count": 23,
     "metadata": {},
     "output_type": "execute_result"
    }
   ],
   "source": [
    "'''\n",
    "re.split 分割返回列表\n",
    "功能：按照能够匹配的子串将字符串分割后返回列表、\n",
    "\n",
    "通式：re.split(pattern, string [, maxsplit=0, flags=0])\n",
    "\n",
    "maxsplit：分隔次数，maxsplit=1 分隔一次，默认为 0，不限制次数\n",
    "'''\n",
    "re.split('\\W+', '，runoob, runoob,    runoob.')\n",
    "\n",
    "# \\W非字母数字及下划线\n",
    "# 也就是字母数字下划线留着\n",
    "# ，空格不能要，见到分隔\n",
    "# .也不能要，见到分隔\n",
    "# 分隔一次，列表里就有一个元素，就有一个，\n",
    "# 所以开头结尾都有个空"
   ]
  },
  {
   "cell_type": "code",
   "execution_count": null,
   "id": "eefdcd4e",
   "metadata": {},
   "outputs": [],
   "source": []
  }
 ],
 "metadata": {
  "kernelspec": {
   "display_name": "Python 3 (ipykernel)",
   "language": "python",
   "name": "python3"
  },
  "language_info": {
   "codemirror_mode": {
    "name": "ipython",
    "version": 3
   },
   "file_extension": ".py",
   "mimetype": "text/x-python",
   "name": "python",
   "nbconvert_exporter": "python",
   "pygments_lexer": "ipython3",
   "version": "3.11.5"
  }
 },
 "nbformat": 4,
 "nbformat_minor": 5
}
